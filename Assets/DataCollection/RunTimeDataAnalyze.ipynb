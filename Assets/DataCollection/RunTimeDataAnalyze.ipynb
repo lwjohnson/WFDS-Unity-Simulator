{
 "cells": [
  {
   "cell_type": "code",
   "execution_count": 121,
   "id": "8db9f250",
   "metadata": {},
   "outputs": [],
   "source": [
    "import numpy as np\n",
    "\n",
    "estimated_startup_time = 8.3"
   ]
  },
  {
   "cell_type": "code",
   "execution_count": 122,
   "id": "f588cf73",
   "metadata": {},
   "outputs": [],
   "source": [
    "#Code to analyze WFDS Runtime Data\n",
    "file1 = open('WFDS_RUN_LOGS.txt', 'r')\n",
    "Lines = file1.readlines()\n",
    "\n",
    "runTimes = {}\n",
    "\n",
    "for line in Lines:\n",
    "    if \"Run time|Covered : \" in line:\n",
    "        start = line.index(' : ') + 3\n",
    "        end = line.index(' : ', start)\n",
    "        end2 = line.index('|', end)\n",
    "        end3 = line.index('|', end2+1)\n",
    "        chunks = line[start:end]\n",
    "        time_taken = float(line[end+3:end2]) - estimated_startup_time\n",
    "        time_covered = float(line[end2+1:end3])\n",
    "        if not (chunks in runTimes):\n",
    "            runTimes[chunks] = []\n",
    "        runTimes[chunks].append([time_taken, time_covered])"
   ]
  },
  {
   "cell_type": "code",
   "execution_count": 123,
   "id": "ad04a2a2",
   "metadata": {},
   "outputs": [
    {
     "name": "stdout",
     "output_type": "stream",
     "text": [
      "20 ::: 0.04067390411443098\n",
      "60 ::: 0.04062684441206443\n"
     ]
    }
   ],
   "source": [
    "avg_per_second = {}\n",
    "\n",
    "for chunk, value in runTimes.items():\n",
    "    avg_per_second[chunk] = []\n",
    "    prev = 0\n",
    "    \n",
    "    for data in value:\n",
    "        avg_per_second[chunk].append(data[0] / data[1])\n",
    "        \n",
    "    print(chunk + ' ::: ' + str(np.mean(avg_per_second[chunk])))"
   ]
  },
  {
   "cell_type": "code",
   "execution_count": 124,
   "id": "30919f02",
   "metadata": {},
   "outputs": [
    {
     "name": "stdout",
     "output_type": "stream",
     "text": [
      "20 ::: 0.8565264212962963\n",
      "60 ::: 2.1284357849056605\n"
     ]
    }
   ],
   "source": [
    "avg_diff = {}\n",
    "for chunk, value in runTimes.items():\n",
    "    avg_diff[chunk] = []\n",
    "    prev = 0\n",
    "    \n",
    "    for data in value:\n",
    "        if prev != 0 and data[0]-prev > -10:\n",
    "            avg_diff[chunk].append(data[0] - prev)\n",
    "        prev = data[0]\n",
    "\n",
    "    print(chunk + ' ::: ' + str(np.mean(avg_diff[chunk])))\n",
    "    "
   ]
  },
  {
   "cell_type": "code",
   "execution_count": null,
   "id": "52d94f4d",
   "metadata": {},
   "outputs": [],
   "source": []
  },
  {
   "cell_type": "code",
   "execution_count": null,
   "id": "55054b73",
   "metadata": {},
   "outputs": [],
   "source": []
  },
  {
   "cell_type": "code",
   "execution_count": null,
   "id": "bc0f06bd",
   "metadata": {},
   "outputs": [],
   "source": []
  }
 ],
 "metadata": {
  "kernelspec": {
   "display_name": "Python 3 (ipykernel)",
   "language": "python",
   "name": "python3"
  },
  "language_info": {
   "codemirror_mode": {
    "name": "ipython",
    "version": 3
   },
   "file_extension": ".py",
   "mimetype": "text/x-python",
   "name": "python",
   "nbconvert_exporter": "python",
   "pygments_lexer": "ipython3",
   "version": "3.9.12"
  }
 },
 "nbformat": 4,
 "nbformat_minor": 5
}
