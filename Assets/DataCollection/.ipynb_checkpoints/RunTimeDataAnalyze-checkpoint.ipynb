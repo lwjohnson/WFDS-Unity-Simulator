{
 "cells": [
  {
   "cell_type": "code",
   "execution_count": 1,
   "id": "85442316",
   "metadata": {},
   "outputs": [],
   "source": [
    "import numpy as np\n",
    "\n",
    "estimated_startup_time = 7"
   ]
  },
  {
   "cell_type": "code",
   "execution_count": 6,
   "id": "f588cf73",
   "metadata": {},
   "outputs": [
    {
     "name": "stdout",
     "output_type": "stream",
     "text": [
      "20\n",
      "0.0475443494680947\n"
     ]
    }
   ],
   "source": [
    "#Code to analyze WFDS Runtime Data\n",
    "file1 = open('WFDS_RUN_LOGS.txt', 'r')\n",
    "Lines = file1.readlines()\n",
    "\n",
    "runTimes = {}\n",
    "\n",
    "for line in Lines:\n",
    "    if \"Run time|Covered : \" in line:\n",
    "        start = line.index(' : ') + 3\n",
    "        end = line.index(' : ', start)\n",
    "        end2 = line.index('|', end)\n",
    "        end3 = line.index('|', end2+1)\n",
    "        chunks = line[start:end]\n",
    "        time_taken = float(line[end+3:end2]) - estimated_startup_time\n",
    "        time_covered = float(line[end2+1:end3])\n",
    "        if not (chunks in runTimes):\n",
    "            runTimes[chunks] = []\n",
    "        runTimes[chunks].append([time_taken, time_covered])\n",
    "\n",
    "def myFunc(e):\n",
    "  return len(e)\n",
    "\n",
    "cars = ['Ford', 'Mitsubishi', 'BMW', 'VW']\n",
    "\n",
    "cars.sort(key=myFunc)\n",
    "        \n",
    "\n",
    "    \n",
    "    \n",
    "\n"
   ]
  },
  {
   "cell_type": "code",
   "execution_count": null,
   "id": "8fc80d7f",
   "metadata": {},
   "outputs": [],
   "source": [
    "avg_per_second = {}\n",
    "\n",
    "for chunk, value in runTimes.items():\n",
    "    avg_per_second[chunk] = []\n",
    "    prev = 0\n",
    "    print(chunk)\n",
    "    \n",
    "    for data in value:\n",
    "        avg_per_second[chunk].append(data[0] / data[1])\n",
    "        \n",
    "    print(np.mean(avg_per_second[chunk]))"
   ]
  },
  {
   "cell_type": "code",
   "execution_count": 7,
   "id": "e63b1d16",
   "metadata": {},
   "outputs": [
    {
     "name": "stdout",
     "output_type": "stream",
     "text": [
      "20\n",
      "{'20': [1.1648173999999987, 2.2135549, -1.2352355, 0.9094662000000007, -0.6626440999999996, 0.6431481999999988, 0.9870777999999998, 0.4147114000000016, 0.7416581999999998, 0.7543235999999993, 1.1401258000000016, 0.28823949999999954, 1.1110278999999998, 0.9543752999999988, 1.3638228000000012, 1.209223999999999, 0.9078188000000011, 6.442439499999999, -2.6311335999999983, 3.5057795999999968, -2.7603849999999994, 3.544747900000001, -1.2071874999999999, 1.6525317999999984, -1.673676399999998, 0.557467299999999, 0.5885263999999992, 4.238509399999998, -0.9676897999999952, -20.929697600000004, -1.1445497999999983, -0.5559598000000001, 0.6422751999999985, 1.1401270000000014, 0.2687014999999988, 0.7823944000000012, 1.0077949999999998, 4.480806499999998, 2.5688108000000014, 0.428898199999999, -0.44444039999999774, 0.05203689999999739, 1.6087862000000008, 1.8518118000000001, -0.19370800000000088, 0.46178130000000195, -0.16750169999999898, 0.7170429999999968, 0.2414310999999998, 0.8015077000000019, 1.6009220000000006, 4.262482099999996, -1.4805717999999963, 0.7743628000000022, -21.660237300000002, 0.033981700000000004, 1.3755796999999994, -0.6798997, 1.7193229999999993, -0.04987359999999974, 1.8578553000000007, 1.6843880999999996, -0.2697739999999982, 2.2679753999999974, -1.3293356000000003, 1.7155277000000027, 0.02463149999999814, 1.845858100000001, 3.401359199999998, -1.5801522999999982, 0.946590999999998, 0.952733600000002, 1.4671836999999996, 0.3191248000000009, 0.28147969999999845, 0.7761867000000002, 0.6623112999999989, 0.13725240000000127, 2.859869700000001, 0.40290819999999883, 0.6304128999999996, 1.9818350999999979, -23.638192499999995, 0.8077783000000007, 1.3815124999999995, -0.5045383000000001, -0.050161199999999795, 1.0207987999999997, 0.22622630000000044, 0.5706817999999991, 1.6479648999999998, 0.2799844, 1.0363875000000018, 2.503552199999998, -0.2138928, 1.0405960000000007, 1.2050249000000015, 0.5815507999999987, 2.1491310000000006, 1.2041415999999998, 0.40532389999999907, 1.5235400000000006, -0.08736259999999874, 0.6455609999999972, 0.006155300000003194, 3.484835999999998, -1.1129016000000007, 1.0296064000000023, 1.5495812999999963, -0.3717976999999948, 3.2095553999999993]}\n"
     ]
    }
   ],
   "source": [
    "avg_diff = {}\n",
    "for chunk, value in runTimes.items():\n",
    "    avg_diff[chunk] = []\n",
    "    prev = 0\n",
    "    print(chunk)\n",
    "    \n",
    "    for data in value:\n",
    "        if not (prev == 0):\n",
    "            avg_diff[chunk].append(data[0] - prev)\n",
    "        prev = data[0]\n",
    "\n",
    "    print(avg_diff)\n",
    "    "
   ]
  },
  {
   "cell_type": "code",
   "execution_count": null,
   "id": "15a8dc93",
   "metadata": {},
   "outputs": [],
   "source": []
  }
 ],
 "metadata": {
  "kernelspec": {
   "display_name": "Python 3 (ipykernel)",
   "language": "python",
   "name": "python3"
  },
  "language_info": {
   "codemirror_mode": {
    "name": "ipython",
    "version": 3
   },
   "file_extension": ".py",
   "mimetype": "text/x-python",
   "name": "python",
   "nbconvert_exporter": "python",
   "pygments_lexer": "ipython3",
   "version": "3.9.12"
  }
 },
 "nbformat": 4,
 "nbformat_minor": 5
}
